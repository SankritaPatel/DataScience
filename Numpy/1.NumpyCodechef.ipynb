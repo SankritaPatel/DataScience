{
 "cells": [
  {
   "cell_type": "markdown",
   "metadata": {},
   "source": [
    "### **NumPy**\n",
    "\n",
    "NumPy is a powerful library for numerical computing in Python, and it offers several advantages over Python's built-in lists or arrays for scientific and mathematical tasks.\n",
    "\n",
    "**Why use NumPy?**\n",
    "\n",
    "1. Performance and Efficiency\n",
    "    - Faster Computations: NumPy arrays (ndarrays) are implemented in C and use contiguous memory allocation, which leads to faster operations compared to Python lists.\n",
    "    - Memory Efficiency: NumPy arrays use less memory than Python lists because they store elements of the same data type and have a more compact memory layout.\n",
    "\n",
    "#### Task\n",
    "\n",
    "We have populated a simple code that highlights the advantages of NumPy over Python lists for numerical computations is the calculation of the mean (average) of a large dataset.\n",
    "Run the code in the IDE and notice the following!\n",
    "\n",
    "Time taken using the List method is significantly higher versus time taken using the NumPy method"
   ]
  },
  {
   "cell_type": "code",
   "execution_count": 1,
   "metadata": {},
   "outputs": [
    {
     "name": "stdout",
     "output_type": "stream",
     "text": [
      "Mean (list): 0.49950573609749827\n",
      "Time taken (list): 0.011039972305297852\n",
      "Mean (NumPy): 0.5001312564278734\n",
      "Time taken (NumPy): 0.0021440982818603516\n"
     ]
    }
   ],
   "source": [
    "import random\n",
    "import time\n",
    "import numpy as np\n",
    "\n",
    "# Method 1: Using Lists\n",
    "# Generate a large list of random numbers\n",
    "data_list = [random.random() for _ in range(1000000)]\n",
    "\n",
    "# Calculate the mean using Python lists\n",
    "start = time.time()\n",
    "mean_list = sum(data_list) / len(data_list)\n",
    "end = time.time()\n",
    "print(\"Mean (list):\", mean_list)\n",
    "print(\"Time taken (list):\", end - start)\n",
    "\n",
    "# Method 2: Using NumPy\n",
    "# Generate a large NumPy array of random numbers\n",
    "data_array = np.random.random(1000000)\n",
    "\n",
    "# Calculate the mean using NumPy\n",
    "start = time.time()\n",
    "mean_array = np.mean(data_array)\n",
    "end = time.time()\n",
    "print(\"Mean (NumPy):\", mean_array)\n",
    "print(\"Time taken (NumPy):\", end - start)"
   ]
  },
  {
   "cell_type": "markdown",
   "metadata": {},
   "source": [
    "2. Mathematical and Statistical Functions\n",
    "    - Built-in Mathematical Functions: NumPy provides a wide range of mathematical functions for operations such as trigonometric functions, logarithms, and exponentials.\n",
    "    - Statistical Functions: Functions like mean, median, standard deviation, variance, etc., are available out-of-the-box for efficient computation.\n",
    "\n",
    "#### Task\n",
    "We have populated a simple code to compute the mean and standard deviation with and without NumPy.\n",
    "Run the code in the IDE and notice the following!\n",
    "\n",
    "The inbuilt statistical functions such as mean and std make the code a lot easier."
   ]
  },
  {
   "cell_type": "code",
   "execution_count": 2,
   "metadata": {},
   "outputs": [
    {
     "name": "stdout",
     "output_type": "stream",
     "text": [
      "Mean (list): 0.5075377113332489\n",
      "Standard Deviation (list): 0.2901329667888275\n",
      "Mean (NumPy): 0.504493419252264\n",
      "Standard Deviation (NumPy): 0.28555863483380456\n"
     ]
    }
   ],
   "source": [
    "import math\n",
    "import random\n",
    "import numpy as np\n",
    "\n",
    "# Method 1: Using regular Python\n",
    "# Generate a large list of random numbers\n",
    "data_list = [random.random() for _ in range(1000)]\n",
    "\n",
    "# Calculate the mean and standard deviation\n",
    "mean_list = sum(data_list) / len(data_list)\n",
    "variance_list = sum((x - mean_list) ** 2 for x in data_list) / len(data_list)\n",
    "std_dev_list = math.sqrt(variance_list)\n",
    "print(\"Mean (list):\", mean_list)\n",
    "print(\"Standard Deviation (list):\", std_dev_list)\n",
    "\n",
    "# Method 2: Using NumPy\n",
    "# Generate a large NumPy array of random numbers\n",
    "data_array = np.random.random(1000)\n",
    "\n",
    "# Calculate the mean\n",
    "mean_array = np.mean(data_array)\n",
    "std_dev_array = np.std(data_array)\n",
    "print(\"Mean (NumPy):\", mean_array)\n",
    "print(\"Standard Deviation (NumPy):\", std_dev_array)\n"
   ]
  },
  {
   "cell_type": "markdown",
   "metadata": {},
   "source": [
    "3. Array Manipulation and Operations\n",
    "    - Reshaping Arrays: NumPy allows you to easily reshape arrays, perform transpositions, and manage multidimensional data.\n",
    "    - Broadcasting: NumPy supports broadcasting, which allows operations on arrays of different shapes in a way that is both intuitive and efficient.\n",
    "\n",
    "#### Task\n",
    "We have populated a simple code to reshape arrays and perform array operations with and without NumPy.\n",
    "Run the code in the IDE and notice the following!\n",
    "\n",
    "In Python lists, we need to use nested loops to achieve the same results, which can be cumbersome and less efficient."
   ]
  },
  {
   "cell_type": "code",
   "execution_count": 3,
   "metadata": {},
   "outputs": [
    {
     "name": "stdout",
     "output_type": "stream",
     "text": [
      "Reshaped list (2x3):\n",
      "[[1, 2, 3], [4, 5, 6]]\n",
      "Transposed list (3x2):\n",
      "[[1, 4], [2, 5], [3, 6]]\n",
      "Reshaped array (2x3):\n",
      "[[1 2 3]\n",
      " [4 5 6]]\n",
      "Transposed array (3x2):\n",
      "[[1 4]\n",
      " [2 5]\n",
      " [3 6]]\n"
     ]
    }
   ],
   "source": [
    "import numpy as np\n",
    "\n",
    "# Method 1: Using Python Lists\n",
    "# Create a 1D list\n",
    "data_list = [1, 2, 3, 4, 5, 6]\n",
    "\n",
    "# Reshape into a 2x3 \"matrix\"\n",
    "data_matrix = [data_list[i:i + 3] for i in range(0, len(data_list), 3)]\n",
    "print(\"Reshaped list (2x3):\")\n",
    "print(data_matrix)\n",
    "\n",
    "# Transpose the \"matrix\"\n",
    "transposed_matrix = [[data_matrix[j][i] for j in range(len(data_matrix))] for i in range(len(data_matrix[0]))]\n",
    "print(\"Transposed list (3x2):\")\n",
    "print(transposed_matrix)\n",
    "\n",
    "# Method 2: Using NumPy\n",
    "# Create a 1D NumPy array\n",
    "data_array = np.array([1, 2, 3, 4, 5, 6])\n",
    "\n",
    "# Reshape into a 2x3 matrix\n",
    "reshaped_array = data_array.reshape((2, 3))\n",
    "print(\"Reshaped array (2x3):\")\n",
    "print(reshaped_array)\n",
    "\n",
    "# Transpose the matrix\n",
    "transposed_array = reshaped_array.T\n",
    "print(\"Transposed array (3x2):\")\n",
    "print(transposed_array)\n"
   ]
  },
  {
   "cell_type": "markdown",
   "metadata": {},
   "source": [
    "#### Why use Numpy\n",
    "To summarise, NumPy is used for the following main reasons\n",
    "\n",
    "1. Performance and Efficiency\n",
    "2. Mathematical and Statistical Functions\n",
    "3. Array Manipulation and Operations\n",
    "4. Integration with Other Libraries\n",
    "5. Handling Large Datasets\n",
    "\n",
    "As a result, NumPy finds applications in\n",
    "\n",
    "1. Machine Learning\n",
    "2. Data Science\n",
    "3. Image and Signal Processing and other fields"
   ]
  },
  {
   "cell_type": "markdown",
   "metadata": {},
   "source": [
    "### NumPy\n",
    "NumPy (short for \"Numerical Python\") is a library for the Python programming language. We import NumPy in Python using the import statement."
   ]
  },
  {
   "cell_type": "code",
   "execution_count": 4,
   "metadata": {},
   "outputs": [],
   "source": [
    "import numpy as np"
   ]
  },
  {
   "cell_type": "markdown",
   "metadata": {},
   "source": [
    "- The code above imports the NumPy library with an alias np\n",
    "- If we dont import - then every NumPy functional call needs to have the term numpy"
   ]
  },
  {
   "cell_type": "code",
   "execution_count": 5,
   "metadata": {},
   "outputs": [
    {
     "name": "stdout",
     "output_type": "stream",
     "text": [
      "[1 2 3 4 5 6]\n"
     ]
    }
   ],
   "source": [
    "import numpy as np\n",
    "\n",
    "# Create a 1D NumPy array\n",
    "data_array = np.array([1, 2, 3, 4, 5, 6])\n",
    "\n",
    "print(data_array)"
   ]
  },
  {
   "cell_type": "markdown",
   "metadata": {},
   "source": [
    "#### NumPy array using a Python List\n",
    "We can create a NumPy array by passing a Python list as the value."
   ]
  },
  {
   "cell_type": "code",
   "execution_count": 6,
   "metadata": {},
   "outputs": [
    {
     "data": {
      "text/plain": [
       "array([2, 4, 6, 8])"
      ]
     },
     "execution_count": 6,
     "metadata": {},
     "output_type": "execute_result"
    }
   ],
   "source": [
    "# create a list named num\n",
    "num = [2, 4, 6, 8]\n",
    "\n",
    "# create numpy array using num\n",
    "array1 = np.array(num)\n",
    "array1"
   ]
  },
  {
   "cell_type": "markdown",
   "metadata": {},
   "source": [
    "#### Task\n",
    "Create a Numpy array containing the first 6 whole numbers and output the same to the console."
   ]
  },
  {
   "cell_type": "code",
   "execution_count": 7,
   "metadata": {},
   "outputs": [
    {
     "name": "stdout",
     "output_type": "stream",
     "text": [
      "[0 1 2 3 4 5]\n"
     ]
    }
   ],
   "source": [
    "# Update your code below this line\n",
    "import numpy as np\n",
    "num = [0, 1, 2, 3, 4, 5]\n",
    "array1 = np.array(num)\n",
    "print(array1)"
   ]
  },
  {
   "cell_type": "markdown",
   "metadata": {},
   "source": [
    "### NumPy array using randint\n",
    "We can also create a NumPy array containing 'n' random integers using the np.random.randint function."
   ]
  },
  {
   "cell_type": "code",
   "execution_count": 9,
   "metadata": {},
   "outputs": [
    {
     "data": {
      "text/plain": [
       "array([1, 1, 8, 0, 8], dtype=int32)"
      ]
     },
     "execution_count": 9,
     "metadata": {},
     "output_type": "execute_result"
    }
   ],
   "source": [
    "# Create a 1D array of 5 random integers between 0 and 10\n",
    "random_array = np.random.randint(0, 10, size=5)\n",
    "random_array"
   ]
  },
  {
   "cell_type": "markdown",
   "metadata": {},
   "source": [
    "np.random.randint(low, high, size): Generates random integers from low (inclusive) to high (exclusive).\n",
    "\n",
    "- low: The lowest integer to be drawn from the distribution (inclusive).\n",
    "- high: The highest integer to be drawn from the distribution (exclusive).\n",
    "- size: The shape of the output array. In this case, size=5 means a 1D array with 5 elements.\n",
    "\n",
    "Note that the following syntax creates an array of 5 random numbers - not necessarily integers"
   ]
  },
  {
   "cell_type": "code",
   "execution_count": 10,
   "metadata": {},
   "outputs": [
    {
     "data": {
      "text/plain": [
       "array([0.2392105 , 0.01875225, 0.84951234, 0.5153592 , 0.77030685])"
      ]
     },
     "execution_count": 10,
     "metadata": {},
     "output_type": "execute_result"
    }
   ],
   "source": [
    "array1 = np.random.rand(5)\n",
    "array1"
   ]
  },
  {
   "cell_type": "markdown",
   "metadata": {},
   "source": [
    "### Task"
   ]
  },
  {
   "cell_type": "code",
   "execution_count": 11,
   "metadata": {},
   "outputs": [
    {
     "name": "stdout",
     "output_type": "stream",
     "text": [
      "[0.73234566 0.95439108 0.13219009 0.53905332 0.56978744]\n",
      "[7 8 2 5 6]\n"
     ]
    }
   ],
   "source": [
    "import numpy as np\n",
    "\n",
    "# generate an array of 5 random numbers\n",
    "array1 = np.random.rand(5)\n",
    "print(array1)\n",
    "\n",
    "# generate an array of 5 random integers between 0 and 10\n",
    "random_array = np.random.randint(0, 10, size=5)\n",
    "print(random_array)\n"
   ]
  },
  {
   "cell_type": "markdown",
   "metadata": {},
   "source": [
    "### NumPy empty array\n",
    "We can create an empty NumPy array using the empty() function."
   ]
  },
  {
   "cell_type": "code",
   "execution_count": 12,
   "metadata": {},
   "outputs": [
    {
     "data": {
      "text/plain": [
       "array([0.73234566, 0.95439108, 0.13219009, 0.53905332, 0.56978744])"
      ]
     },
     "execution_count": 12,
     "metadata": {},
     "output_type": "execute_result"
    }
   ],
   "source": [
    "num = np.empty(5)\n",
    "num"
   ]
  },
  {
   "cell_type": "markdown",
   "metadata": {},
   "source": [
    "The above code creates an empty array of length 5.\n",
    "\n",
    "Note that using the empty() function generates values in the array that are not set to any particular value but are just whatever values were already present in the allocated memory.\n",
    "\n",
    "Similar functions are the zeros() and ones() functions"
   ]
  },
  {
   "cell_type": "code",
   "execution_count": 13,
   "metadata": {},
   "outputs": [
    {
     "name": "stdout",
     "output_type": "stream",
     "text": [
      "[0. 0. 0. 0.]\n",
      "[1. 1. 1.]\n"
     ]
    }
   ],
   "source": [
    "num0 = np.zeros(4)\n",
    "print(num0)\n",
    "\n",
    "num1 = np.ones(3)\n",
    "print(num1)"
   ]
  },
  {
   "cell_type": "markdown",
   "metadata": {},
   "source": [
    "num0 will have 4 elements all initialised to 0. num1 will have 3 elements all initialised to 1."
   ]
  },
  {
   "cell_type": "code",
   "execution_count": 14,
   "metadata": {},
   "outputs": [
    {
     "name": "stdout",
     "output_type": "stream",
     "text": [
      "[0. 0. 0. 0.]\n",
      "[1. 1. 1. 1.]\n",
      "[0.00000000e+000 1.04133248e-311 1.04133248e-311 1.04133248e-311]\n"
     ]
    }
   ],
   "source": [
    "import numpy as np\n",
    "\n",
    "# create an array with 4 elements filled with zeros\n",
    "num0 = np.zeros(4)\n",
    "\n",
    "# create an array with 3 elements filled with ones\n",
    "num1 = np.ones(4)\n",
    "\n",
    "# create an empty array of length 5\n",
    "num = np.empty(4)\n",
    "\n",
    "print(num0)\n",
    "print(num1)\n",
    "print(num)"
   ]
  },
  {
   "cell_type": "markdown",
   "metadata": {},
   "source": [
    "### NumPy array using arrange()\n",
    "The np.arange() function in NumPy is used to create an array of evenly spaced values within a given range. It is similar to the built-in Python range() function but returns a NumPy array."
   ]
  },
  {
   "cell_type": "markdown",
   "metadata": {},
   "source": [
    "``` numpy.arange(start, stop, step, dtype=None)```\n",
    "\n",
    "- start (optional): The starting value of the sequence. The default is 0.\n",
    "- stop: The end value of the sequence. The sequence does not include this value.\n",
    "- step (optional): The spacing between values. The default is 1.\n",
    "- dtype (optional): The desired data type of the array."
   ]
  },
  {
   "cell_type": "code",
   "execution_count": 16,
   "metadata": {},
   "outputs": [
    {
     "name": "stdout",
     "output_type": "stream",
     "text": [
      "[0 1 2 3 4 5 6 7 8 9]\n",
      "[1 3 5 7 9]\n",
      "[0. 1. 2. 3. 4. 5.]\n"
     ]
    }
   ],
   "source": [
    "# Basic Usage\n",
    "arr = np.arange(10)\n",
    "print(arr)      # Output: [0 1 2 3 4 5 6 7 8 9] since default start is 0 and default step is 1\n",
    "# Create an array from 1 to 9 with a step of 2.\n",
    "arr = np.arange(1, 11, 2)\n",
    "print(arr)      # Output: [1 3 5 7 9] - note that 11 is not a part of this output\n",
    "# Create an array from 0 to 5 with float data type.\n",
    "arr = np.arange(0, 6, dtype=float)\n",
    "print(arr)      # Output: [0. 1. 2. 3. 4. 5.] - note that 6 is not a part of this output"
   ]
  },
  {
   "cell_type": "markdown",
   "metadata": {},
   "source": [
    "#### Task\n",
    "Output to the console a Numpy array with all the even numbers starting from 2 and ending at 10. Their datatype needs to be float."
   ]
  },
  {
   "cell_type": "code",
   "execution_count": 17,
   "metadata": {},
   "outputs": [
    {
     "name": "stdout",
     "output_type": "stream",
     "text": [
      "[ 2.  4.  6.  8. 10.]\n"
     ]
    }
   ],
   "source": [
    "import numpy as np \n",
    "num1 = np.arange(2, 11, 2, dtype=float)\n",
    "print(num1)"
   ]
  },
  {
   "cell_type": "markdown",
   "metadata": {},
   "source": [
    "#### Common Numpy datatypes\n",
    "NumPy provides us built-in data types to efficiently work with numerical data.\n",
    "\n",
    "- Integer\n",
    "- Float\n",
    "- Complex\n",
    "- Boolean\n",
    "- String\n",
    "- Object"
   ]
  },
  {
   "cell_type": "markdown",
   "metadata": {},
   "source": [
    "### Integer datatype in Numpy\n",
    "NumPy supports various integer types such as int8, int16, int32, and int64."
   ]
  },
  {
   "cell_type": "code",
   "execution_count": 18,
   "metadata": {},
   "outputs": [
    {
     "name": "stdout",
     "output_type": "stream",
     "text": [
      "[1 2 3]\n"
     ]
    }
   ],
   "source": [
    "arr_int = np.array([1, 2, 3], dtype=np.int32)\n",
    "print(arr_int)    # Output: [1 2 3]"
   ]
  },
  {
   "cell_type": "markdown",
   "metadata": {},
   "source": [
    "The difference between int8, int16, int32, and int64 in NumPy lies in the amount of memory each data type uses to store integers and the range of values they can represent.\n",
    "\n",
    "- Memory Usage: The primary difference is the amount of memory each type uses. int8 uses the least memory (1 byte), while int64 uses the most (8 bytes). This affects the performance and memory footprint of your NumPy arrays, especially when working with large datasets.\n",
    "- Each type can represent a different range of integers. int8 can represent values from -128 to 127, which is much narrower than the range for int64."
   ]
  },
  {
   "cell_type": "code",
   "execution_count": 19,
   "metadata": {},
   "outputs": [
    {
     "name": "stdout",
     "output_type": "stream",
     "text": [
      "[200 201 202]\n"
     ]
    }
   ],
   "source": [
    "import numpy as np\n",
    "\n",
    "arr_int = np.array([200, 201, 202], dtype=np.int16)\n",
    "print(arr_int)"
   ]
  },
  {
   "cell_type": "markdown",
   "metadata": {},
   "source": [
    "### Float and complex datatype in Numpy\n",
    "NumPy supports float16, float32, and float64."
   ]
  },
  {
   "cell_type": "code",
   "execution_count": 20,
   "metadata": {},
   "outputs": [
    {
     "name": "stdout",
     "output_type": "stream",
     "text": [
      "[1.  2.5 3.8]\n"
     ]
    }
   ],
   "source": [
    "arr_float = np.array([1.0, 2.5, 3.8], dtype=np.float64)\n",
    "print(arr_float)      # Output: [1.  2.5 3.8]"
   ]
  },
  {
   "cell_type": "markdown",
   "metadata": {},
   "source": [
    "NumPy supports complex numbers with complex64 and complex128."
   ]
  },
  {
   "cell_type": "code",
   "execution_count": 21,
   "metadata": {},
   "outputs": [
    {
     "name": "stdout",
     "output_type": "stream",
     "text": [
      "[1.+2.j 3.+4.j]\n"
     ]
    }
   ],
   "source": [
    "arr_complex = np.array([1+2j, 3+4j], dtype=np.complex128)\n",
    "print(arr_complex)    # Output: 1.+2.j 3.+4.j]"
   ]
  },
  {
   "cell_type": "markdown",
   "metadata": {},
   "source": [
    "#### Task\n",
    "- Create and print a NumPy array with 5 floating-point numbers of type float32 as per the sample output given below. [0.1 0.2 0.3 0.4 0.5]\n",
    "- Create a NumPy array with 3 complex numbers of type complex64 as per the sample output given below. [1.+1.j 2.+2.j 3.+3.j]"
   ]
  },
  {
   "cell_type": "code",
   "execution_count": 23,
   "metadata": {},
   "outputs": [
    {
     "name": "stdout",
     "output_type": "stream",
     "text": [
      "[0.1 0.2 0.3 0.4 0.5]\n",
      "[1.+1.j 2.+2.j 3.+3.j]\n"
     ]
    }
   ],
   "source": [
    "arr_float = np.array([0.1, 0.2, 0.3, 0.4, 0.5], dtype=np.float32)\n",
    "print(arr_float)\n",
    "\n",
    "arr_complex = np.array([1.+1.j, 2.+2.j, 3.+3.j], dtype=np.complex128)\n",
    "print(arr_complex)"
   ]
  },
  {
   "cell_type": "markdown",
   "metadata": {},
   "source": [
    "### Boolean datatype in Numpy\n",
    "NumPy arrays with Boolean datatype are created using the following syntax"
   ]
  },
  {
   "cell_type": "code",
   "execution_count": 24,
   "metadata": {},
   "outputs": [
    {
     "name": "stdout",
     "output_type": "stream",
     "text": [
      "[ True False  True]\n"
     ]
    }
   ],
   "source": [
    "arr_bool = np.array([True, False, True], dtype=np.bool_)\n",
    "print(arr_bool)     # Output: [True False True]"
   ]
  },
  {
   "cell_type": "markdown",
   "metadata": {},
   "source": [
    "Notice '_' in the syntax np.bool_"
   ]
  },
  {
   "cell_type": "code",
   "execution_count": 25,
   "metadata": {},
   "outputs": [
    {
     "name": "stdout",
     "output_type": "stream",
     "text": [
      "[False  True False  True False  True False  True False  True]\n"
     ]
    }
   ],
   "source": [
    "import numpy as np\n",
    "\n",
    "# Create an array of integers\n",
    "arr = np.array([1, 2, 3, 4, 5, 6, 7, 8, 9, 10])\n",
    "\n",
    "# Create a boolean mask for even numbers\n",
    "even_mask = arr % 2==0\n",
    "\n",
    "# Print the result\n",
    "print(even_mask)"
   ]
  },
  {
   "cell_type": "markdown",
   "metadata": {},
   "source": [
    "### Strings and Object datatypes in Numpy\n",
    "NumPy supports fixed-length strings with S followed by the number of characters."
   ]
  },
  {
   "cell_type": "code",
   "execution_count": 26,
   "metadata": {},
   "outputs": [
    {
     "name": "stdout",
     "output_type": "stream",
     "text": [
      "[b'a' b'bc' b'def']\n"
     ]
    }
   ],
   "source": [
    "arr_str = np.array(['a', 'bc', 'def'], dtype='S3')\n",
    "print(arr_str)     # Output - [b'a' b'bc' b'def']"
   ]
  },
  {
   "cell_type": "markdown",
   "metadata": {},
   "source": [
    "- Byte strings in NumPy are denoted by a leading b\n",
    "\n",
    "Alternatively, you can use the str dtype to let NumPy determine the appropriate length of the string"
   ]
  },
  {
   "cell_type": "code",
   "execution_count": 27,
   "metadata": {},
   "outputs": [
    {
     "name": "stdout",
     "output_type": "stream",
     "text": [
      "['apple' 'banana' 'cherry']\n"
     ]
    }
   ],
   "source": [
    "import numpy as np\n",
    "\n",
    "# Use dtype=str to allow variable-length strings\n",
    "arr_exercise_str = np.array(['apple', 'banana', 'cherry'], dtype=str)\n",
    "print(arr_exercise_str)    # Output - ['apple' 'banana' 'cherry']"
   ]
  },
  {
   "cell_type": "markdown",
   "metadata": {},
   "source": [
    "- NumPy also supports generic Python objects with datatype object.\n",
    "\n",
    "- This flexibility means that the array can store mixed types and complex data structures that are not possible with standard NumPy dtypes.\n",
    "\n",
    "- For our current level - we wont be using this datatype, so dont worry about it."
   ]
  },
  {
   "cell_type": "code",
   "execution_count": 28,
   "metadata": {},
   "outputs": [
    {
     "name": "stdout",
     "output_type": "stream",
     "text": [
      "[1 'a' 3.5]\n"
     ]
    }
   ],
   "source": [
    "arr_obj = np.array([1, 'a', 3.5], dtype=object)\n",
    "print(arr_obj)"
   ]
  },
  {
   "cell_type": "markdown",
   "metadata": {},
   "source": [
    "#### Task\n",
    "\n",
    "check the difference when strings are declared using the datatype 'S5' versus 'str'"
   ]
  },
  {
   "cell_type": "code",
   "execution_count": 29,
   "metadata": {},
   "outputs": [
    {
     "name": "stdout",
     "output_type": "stream",
     "text": [
      "[b'apple' b'banan' b'cherr']\n",
      "[b'apple' b'banana' b'cherry']\n",
      "['apple' 'banana' 'cherry']\n"
     ]
    }
   ],
   "source": [
    "import numpy as np\n",
    "\n",
    "# Using S5 datatype\n",
    "arr_exercise_str = np.array(['apple', 'banana', 'cherry'], dtype='S5')\n",
    "print(arr_exercise_str)\n",
    "\n",
    "# Use S6 to avoid truncation\n",
    "arr_exercise_str = np.array(['apple', 'banana', 'cherry'], dtype='S6')\n",
    "print(arr_exercise_str)\n",
    "\n",
    "# Use str to auto detect the string length\n",
    "arr_exercise_str = np.array(['apple', 'banana', 'cherry'], dtype='str')\n",
    "print(arr_exercise_str)\n"
   ]
  },
  {
   "cell_type": "markdown",
   "metadata": {},
   "source": [
    "#### Datatype conversion in NumPy\n",
    "The astype method in NumPy is a powerful and flexible way to convert arrays from one data type to another.\n",
    "\n",
    "Here is an example of converting an integer array to a string array:"
   ]
  },
  {
   "cell_type": "code",
   "execution_count": 30,
   "metadata": {},
   "outputs": [
    {
     "name": "stdout",
     "output_type": "stream",
     "text": [
      "[1 2 3 4 5]\n",
      "['1' '2' '3' '4' '5']\n"
     ]
    }
   ],
   "source": [
    "# Create an array of integers\n",
    "int_array = np.array([1, 2, 3, 4, 5])\n",
    "\n",
    "# Convert the integer array to a string array\n",
    "str_array = int_array.astype(str)\n",
    "\n",
    "print(int_array)     # Output - [1 2 3 4 5]\n",
    "print(str_array)     # Output - ['1' '2' '3' '4' '5']"
   ]
  },
  {
   "cell_type": "markdown",
   "metadata": {},
   "source": [
    "Here is another example of converting an integer array to a float array:"
   ]
  },
  {
   "cell_type": "code",
   "execution_count": 31,
   "metadata": {},
   "outputs": [
    {
     "name": "stdout",
     "output_type": "stream",
     "text": [
      "[1 2 3 4]\n",
      "[1. 2. 3. 4.]\n"
     ]
    }
   ],
   "source": [
    "# create an array of integers\n",
    "int_array = np.array([1, 2, 3, 4])\n",
    "\n",
    "# convert data type of int_array to float\n",
    "float_array = int_array.astype('float')\n",
    "\n",
    "# print the arrays and their data types\n",
    "print(int_array)     # Output - [1 2 3 4] \n",
    "print(float_array)   # Output - [1. 2. 3. 4.]"
   ]
  },
  {
   "cell_type": "code",
   "execution_count": 32,
   "metadata": {},
   "outputs": [
    {
     "name": "stdout",
     "output_type": "stream",
     "text": [
      "Integer array: [10 20 30 40 50]\n",
      "String array: ['10' '20' '30' '40' '50']\n"
     ]
    }
   ],
   "source": [
    "# Debug the code given below\n",
    "\n",
    "import numpy as np\n",
    "\n",
    "# Create an array of integers\n",
    "int_array = np.array([10, 20, 30, 40, 50])\n",
    "\n",
    "# Correct conversion to string array\n",
    "str_array = int_array.astype('str')\n",
    "\n",
    "# Print the integer array\n",
    "print(\"Integer array:\", int_array)\n",
    "\n",
    "# Print the string array\n",
    "print(\"String array:\", str_array)\n"
   ]
  },
  {
   "cell_type": "code",
   "execution_count": null,
   "metadata": {},
   "outputs": [],
   "source": []
  }
 ],
 "metadata": {
  "kernelspec": {
   "display_name": "venv",
   "language": "python",
   "name": "python3"
  },
  "language_info": {
   "codemirror_mode": {
    "name": "ipython",
    "version": 3
   },
   "file_extension": ".py",
   "mimetype": "text/x-python",
   "name": "python",
   "nbconvert_exporter": "python",
   "pygments_lexer": "ipython3",
   "version": "3.12.5"
  }
 },
 "nbformat": 4,
 "nbformat_minor": 2
}
